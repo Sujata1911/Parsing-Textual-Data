{
 "cells": [
  {
   "cell_type": "code",
   "execution_count": 6,
   "metadata": {
    "collapsed": true
   },
   "outputs": [],
   "source": [
    "import gensim"
   ]
  },
  {
   "cell_type": "code",
   "execution_count": 7,
   "metadata": {
    "collapsed": true
   },
   "outputs": [],
   "source": [
    "import numpy as np"
   ]
  },
  {
   "cell_type": "code",
   "execution_count": 8,
   "metadata": {
    "collapsed": true
   },
   "outputs": [],
   "source": [
    "from sklearn.manifold import TSNE"
   ]
  },
  {
   "cell_type": "code",
   "execution_count": 11,
   "metadata": {
    "collapsed": true
   },
   "outputs": [],
   "source": [
    "from nltk.corpus import stopwords"
   ]
  },
  {
   "cell_type": "code",
   "execution_count": 12,
   "metadata": {},
   "outputs": [],
   "source": [
    "import plotly.offline as plt"
   ]
  },
  {
   "cell_type": "code",
   "execution_count": 13,
   "metadata": {
    "collapsed": true
   },
   "outputs": [],
   "source": [
    "import plotly.graph_objs as go"
   ]
  },
  {
   "cell_type": "code",
   "execution_count": 14,
   "metadata": {},
   "outputs": [
    {
     "data": {
      "text/html": [
       "        <script type=\"text/javascript\">\n",
       "        window.PlotlyConfig = {MathJaxConfig: 'local'};\n",
       "        if (window.MathJax) {MathJax.Hub.Config({SVG: {font: \"STIX-Web\"}});}\n",
       "        if (typeof require !== 'undefined') {\n",
       "        require.undef(\"plotly\");\n",
       "        requirejs.config({\n",
       "            paths: {\n",
       "                'plotly': ['https://cdn.plot.ly/plotly-latest.min']\n",
       "            }\n",
       "        });\n",
       "        require(['plotly'], function(Plotly) {\n",
       "            window._Plotly = Plotly;\n",
       "        });\n",
       "        }\n",
       "        </script>\n",
       "        "
      ]
     },
     "metadata": {},
     "output_type": "display_data"
    }
   ],
   "source": [
    "plt.init_notebook_mode(connected=True)"
   ]
  },
  {
   "cell_type": "code",
   "execution_count": 17,
   "metadata": {},
   "outputs": [],
   "source": [
    "from gensim import models"
   ]
  },
  {
   "cell_type": "code",
   "execution_count": 21,
   "metadata": {},
   "outputs": [],
   "source": [
    "model = gensim.models.KeyedVectors.load_word2vec_format('https://s3.amazonaws.com/dl4j-distribution/GoogleNews-vectors-negative300.bin.gz', binary=True)"
   ]
  },
  {
   "cell_type": "code",
   "execution_count": 22,
   "metadata": {
    "collapsed": true
   },
   "outputs": [],
   "source": [
    "def get_coordinates(model, words):\n",
    "    arr = np.empty((0,300), dtype='f')\n",
    "    labels = []\n",
    "    for wrd_score in words:\n",
    "        try:\n",
    "            wrd_vector = model[wrd_score]\n",
    "            arr = np.append(arr, np.array([wrd_vector]), axis=0)\n",
    "            labels.append(wrd_score)\n",
    "        except:\n",
    "            pass\n",
    "    tsne = TSNE(n_components=3, random_state=0)\n",
    "    np.set_printoptions(suppress=True)\n",
    "    Y = tsne.fit_transform(arr)\n",
    "    x_coords = Y[:, 0]\n",
    "    y_coords = Y[:, 1]\n",
    "    z_coords = Y[:, 2]\n",
    "    return x_coords, y_coords, z_coords"
   ]
  },
  {
   "cell_type": "code",
   "execution_count": 31,
   "metadata": {},
   "outputs": [
    {
     "data": {
      "application/vnd.plotly.v1+json": {
       "config": {
        "linkText": "Export to plot.ly",
        "plotlyServerURL": "https://plot.ly",
        "responsive": true,
        "showLink": false
       },
       "data": [
        {
         "hoverinfo": "text",
         "marker": {
          "opacity": 0.8,
          "size": 5
         },
         "mode": "markers+text",
         "text": [
          "",
          "Come",
          "I",
          "I'm",
          "a",
          "and",
          "apartNobody",
          "apartQuestions",
          "apartTell",
          "areI",
          "areNobody",
          "as",
          "ask",
          "at",
          "back",
          "be",
          "chasing",
          "circles",
          "coming",
          "don't",
          "easyIt's",
          "easyNo",
          "easyOh",
          "ever",
          "figuresPulling",
          "find",
          "for",
          "go",
          "going",
          "guessing",
          "had",
          "hardI'm",
          "hardOh",
          "haunt",
          "heartTell",
          "how",
          "in",
          "it",
          "it's",
          "just",
          "know",
          "let's",
          "loud",
          "love",
          "lovely",
          "me",
          "meCome",
          "meOh",
          "meet",
          "my",
          "need",
          "not",
          "numbers",
          "of",
          "on",
          "one",
          "our",
          "partNobody",
          "progressDo",
          "puzzles",
          "questionsOh",
          "rush",
          "said",
          "science",
          "secretsAnd",
          "set",
          "shame",
          "so",
          "sorryYou",
          "speak",
          "start",
          "startI",
          "startRunning",
          "such",
          "tailsComing",
          "tailsHeads",
          "take",
          "the",
          "this",
          "to",
          "up",
          "us",
          "was",
          "we",
          "would",
          "you",
          "youTell",
          "your"
         ],
         "textposition": "bottom center",
         "type": "scatter3d",
         "uid": "7f4e1842-1bf2-4f01-ba1c-804974f72b84",
         "x": [
          227.71107482910156,
          -1.558473825454712,
          -149.2729949951172,
          149.6756591796875,
          -98.48648834228516,
          213.12948608398438,
          -211.575439453125,
          -152.5692901611328,
          -18.134300231933594,
          39.60771179199219,
          -36.226593017578125,
          11.315485954284668,
          73.05992126464844,
          6.7910919189453125,
          99.70928955078125,
          147.77381896972656,
          93.794921875,
          70.5133056640625,
          -21.629283905029297,
          -29.42607307434082,
          -143.96022033691406,
          -97.67255401611328,
          -1.046017050743103,
          -227.41407775878906,
          -236.42941284179688,
          132.9122314453125,
          111.01482391357422,
          38.613624572753906,
          -91.27073669433594,
          -33.867889404296875,
          98.03094482421875,
          -109.81304931640625,
          -109.29143524169922,
          -114.69590759277344
         ],
         "y": [
          49.40933609008789,
          175.62171936035156,
          -144.12826538085938,
          -29.702089309692383,
          -165.92977905273438,
          -80.9417953491211,
          87.31389617919922,
          -28.572025299072266,
          -223.48602294921875,
          46.72476577758789,
          62.87635040283203,
          170.7158660888672,
          27.276498794555664,
          -90.28709411621094,
          86.69636535644531,
          -178.13229370117188,
          -40.840389251708984,
          -179.86126708984375,
          -56.24183654785156,
          131.03631591796875,
          111.93168640136719,
          -7.3564133644104,
          -144.67259216308594,
          72.12210845947266,
          -34.71942138671875,
          167.28009033203125,
          85.12039184570312,
          -122.44866180419922,
          -9.158919334411621,
          25.972064971923828,
          -56.19481658935547,
          -141.03903198242188,
          201.73977661132812,
          119.190185546875
         ],
         "z": [
          -9.96353530883789,
          -38.677616119384766,
          -0.7793923020362854,
          -103.1917953491211,
          114.44639587402344,
          84.29841613769531,
          52.96197509765625,
          106.61231231689453,
          -26.42007064819336,
          -72.8465576171875,
          48.138431549072266,
          110.082763671875,
          -214.73202514648438,
          -56.68777847290039,
          54.21980285644531,
          -56.14652633666992,
          34.59286880493164,
          77.07415008544922,
          93.36347198486328,
          -173.60989379882812,
          -78.3025894165039,
          -40.00592041015625,
          195.33763122558594,
          -201.66925048828125,
          -45.03013610839844,
          -54.76778030395508,
          197.92442321777344,
          -183.73370361328125,
          -186.41912841796875,
          217.8675537109375,
          181.95285034179688,
          -134.56272888183594,
          29.334976196289062,
          153.7583770751953
         ]
        }
       ],
       "layout": {
        "title": {
         "text": "metamorphosis_clean"
        }
       }
      },
      "text/html": [
       "<div>\n",
       "        \n",
       "        \n",
       "            <div id=\"a9a6c320-5ec3-4c48-bc73-cea7e99cc28c\" class=\"plotly-graph-div\" style=\"height:525px; width:100%;\"></div>\n",
       "            <script type=\"text/javascript\">\n",
       "                require([\"plotly\"], function(Plotly) {\n",
       "                    window.PLOTLYENV=window.PLOTLYENV || {};\n",
       "                    window.PLOTLYENV.BASE_URL='https://plot.ly';\n",
       "                    \n",
       "                if (document.getElementById(\"a9a6c320-5ec3-4c48-bc73-cea7e99cc28c\")) {\n",
       "                    Plotly.newPlot(\n",
       "                        'a9a6c320-5ec3-4c48-bc73-cea7e99cc28c',\n",
       "                        [{\"hoverinfo\": \"text\", \"marker\": {\"opacity\": 0.8, \"size\": 5}, \"mode\": \"markers+text\", \"text\": [\"\", \"Come\", \"I\", \"I'm\", \"a\", \"and\", \"apartNobody\", \"apartQuestions\", \"apartTell\", \"areI\", \"areNobody\", \"as\", \"ask\", \"at\", \"back\", \"be\", \"chasing\", \"circles\", \"coming\", \"don't\", \"easyIt's\", \"easyNo\", \"easyOh\", \"ever\", \"figuresPulling\", \"find\", \"for\", \"go\", \"going\", \"guessing\", \"had\", \"hardI'm\", \"hardOh\", \"haunt\", \"heartTell\", \"how\", \"in\", \"it\", \"it's\", \"just\", \"know\", \"let's\", \"loud\", \"love\", \"lovely\", \"me\", \"meCome\", \"meOh\", \"meet\", \"my\", \"need\", \"not\", \"numbers\", \"of\", \"on\", \"one\", \"our\", \"partNobody\", \"progressDo\", \"puzzles\", \"questionsOh\", \"rush\", \"said\", \"science\", \"secretsAnd\", \"set\", \"shame\", \"so\", \"sorryYou\", \"speak\", \"start\", \"startI\", \"startRunning\", \"such\", \"tailsComing\", \"tailsHeads\", \"take\", \"the\", \"this\", \"to\", \"up\", \"us\", \"was\", \"we\", \"would\", \"you\", \"youTell\", \"your\"], \"textposition\": \"bottom center\", \"type\": \"scatter3d\", \"uid\": \"f6166442-f07b-4990-ad20-b3fabc4bb28c\", \"x\": [227.71107482910156, -1.558473825454712, -149.2729949951172, 149.6756591796875, -98.48648834228516, 213.12948608398438, -211.575439453125, -152.5692901611328, -18.134300231933594, 39.60771179199219, -36.226593017578125, 11.315485954284668, 73.05992126464844, 6.7910919189453125, 99.70928955078125, 147.77381896972656, 93.794921875, 70.5133056640625, -21.629283905029297, -29.42607307434082, -143.96022033691406, -97.67255401611328, -1.046017050743103, -227.41407775878906, -236.42941284179688, 132.9122314453125, 111.01482391357422, 38.613624572753906, -91.27073669433594, -33.867889404296875, 98.03094482421875, -109.81304931640625, -109.29143524169922, -114.69590759277344], \"y\": [49.40933609008789, 175.62171936035156, -144.12826538085938, -29.702089309692383, -165.92977905273438, -80.9417953491211, 87.31389617919922, -28.572025299072266, -223.48602294921875, 46.72476577758789, 62.87635040283203, 170.7158660888672, 27.276498794555664, -90.28709411621094, 86.69636535644531, -178.13229370117188, -40.840389251708984, -179.86126708984375, -56.24183654785156, 131.03631591796875, 111.93168640136719, -7.3564133644104, -144.67259216308594, 72.12210845947266, -34.71942138671875, 167.28009033203125, 85.12039184570312, -122.44866180419922, -9.158919334411621, 25.972064971923828, -56.19481658935547, -141.03903198242188, 201.73977661132812, 119.190185546875], \"z\": [-9.96353530883789, -38.677616119384766, -0.7793923020362854, -103.1917953491211, 114.44639587402344, 84.29841613769531, 52.96197509765625, 106.61231231689453, -26.42007064819336, -72.8465576171875, 48.138431549072266, 110.082763671875, -214.73202514648438, -56.68777847290039, 54.21980285644531, -56.14652633666992, 34.59286880493164, 77.07415008544922, 93.36347198486328, -173.60989379882812, -78.3025894165039, -40.00592041015625, 195.33763122558594, -201.66925048828125, -45.03013610839844, -54.76778030395508, 197.92442321777344, -183.73370361328125, -186.41912841796875, 217.8675537109375, 181.95285034179688, -134.56272888183594, 29.334976196289062, 153.7583770751953]}],\n",
       "                        {\"title\": {\"text\": \"metamorphosis_clean\"}},\n",
       "                        {\"showLink\": false, \"linkText\": \"Export to plot.ly\", \"plotlyServerURL\": \"https://plot.ly\", \"responsive\": true}\n",
       "                    ).then(function(){\n",
       "                            \n",
       "var gd = document.getElementById('a9a6c320-5ec3-4c48-bc73-cea7e99cc28c');\n",
       "var x = new MutationObserver(function (mutations, observer) {{\n",
       "        var display = window.getComputedStyle(gd).display;\n",
       "        if (!display || display === 'none') {{\n",
       "            console.log([gd, 'removed!']);\n",
       "            Plotly.purge(gd);\n",
       "            observer.disconnect();\n",
       "        }}\n",
       "}});\n",
       "\n",
       "// Listen for the removal of the full notebook cells\n",
       "var notebookContainer = gd.closest('#notebook-container');\n",
       "if (notebookContainer) {{\n",
       "    x.observe(notebookContainer, {childList: true});\n",
       "}}\n",
       "\n",
       "// Listen for the clearing of the current output cell\n",
       "var outputEl = gd.closest('.output');\n",
       "if (outputEl) {{\n",
       "    x.observe(outputEl, {childList: true});\n",
       "}}\n",
       "\n",
       "                        })\n",
       "                };\n",
       "                });\n",
       "            </script>\n",
       "        </div>"
      ]
     },
     "metadata": {},
     "output_type": "display_data"
    }
   ],
   "source": [
    "with open('metamorphosis_clean.txt', 'r') as f:\n",
    "    data = f.read()\n",
    "    \n",
    "words = np.unique(data.replace('\\n', '').replace(',', ' ').replace('(','').replace(')','').split(' '))\n",
    "metamorphosis_clean = [word for word in words if word not in stopwords.words('english')]\n",
    "\n",
    "x, y, z = get_coordinates(model, metamorphosis_clean)\n",
    "\n",
    "plot = [go.Scatter3d(x = x,\n",
    "                    y = y,\n",
    "                    z = z,\n",
    "                    mode = 'markers+text',\n",
    "                    text = words,\n",
    "                    textposition='bottom center',\n",
    "                    hoverinfo = 'text',\n",
    "                    marker=dict(size=5,opacity=0.8))]\n",
    "\n",
    "layout = go.Layout(title='metamorphosis_clean')\n",
    "fig = go.Figure(data=plot, layout=layout)\n",
    "plt.iplot(fig)"
   ]
  },
  {
   "cell_type": "code",
   "execution_count": null,
   "metadata": {
    "collapsed": true
   },
   "outputs": [],
   "source": []
  }
 ],
 "metadata": {
  "kernelspec": {
   "display_name": "Python 3",
   "language": "python",
   "name": "python3"
  },
  "language_info": {
   "codemirror_mode": {
    "name": "ipython",
    "version": 3
   },
   "file_extension": ".py",
   "mimetype": "text/x-python",
   "name": "python",
   "nbconvert_exporter": "python",
   "pygments_lexer": "ipython3",
   "version": "3.6.3"
  }
 },
 "nbformat": 4,
 "nbformat_minor": 2
}
